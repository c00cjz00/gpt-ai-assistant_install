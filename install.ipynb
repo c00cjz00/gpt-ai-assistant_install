{
 "cells": [
  {
   "cell_type": "markdown",
   "id": "ffff82f5-bde2-44c3-a2d8-6cb861dda130",
   "metadata": {},
   "source": [
    "### 1. 下載執行程式\n",
    "git clone https://github.com/c00cjz00/gpt-ai-assistant_install.git"
   ]
  },
  {
   "cell_type": "markdown",
   "id": "cce53225-abe3-4d7e-82b3-1212726108f2",
   "metadata": {},
   "source": [
    "### 2. 取得 Webhook URL"
   ]
  },
  {
   "cell_type": "code",
   "execution_count": 17,
   "id": "d679b166-4b33-44d2-b159-b26fb66ac134",
   "metadata": {
    "tags": []
   },
   "outputs": [
    {
     "name": "stdout",
     "output_type": "stream",
     "text": [
      "Webhook URL: https://node02.biobank.org.tw/redirect/172.20.9.41/3000/webhook\n"
     ]
    }
   ],
   "source": [
    "%%bash\n",
    "node_ip=$(cat /etc/hosts |grep $(hostname).nchc.opa | awk '{print $1}' ); \n",
    "node_port=$(cat ~/gpt/env.txt |grep APP_PORT | awk -F '=' '{print $(2)}');\n",
    "echo \"Webhook URL: https://node02.biobank.org.tw/redirect/${node_ip}/${node_port}/webhook\""
   ]
  },
  {
   "cell_type": "markdown",
   "id": "968babdf-ef31-44a6-9f55-7301a9a7a931",
   "metadata": {},
   "source": [
    "### 3. 請編輯 env-template.txt 更新以下三個項目\n",
    "- OPENAI_API_KEY=請填寫 (申請位置: https://beta.openai.com/)\n",
    "- LINE_CHANNEL_ACCESS_TOKEN=請填寫  (申請位置: https://developers.line.biz/)\n",
    "- LINE_CHANNEL_SECRET=請填寫  (申請位置: https://developers.line.biz/)"
   ]
  },
  {
   "cell_type": "code",
   "execution_count": 44,
   "id": "f2f02a03-c862-4b1c-8a72-23f0b06fa2fa",
   "metadata": {
    "tags": []
   },
   "outputs": [
    {
     "name": "stderr",
     "output_type": "stream",
     "text": [
      "npm WARN config only Use `--omit=dev` to omit dev dependencies from the install.\n"
     ]
    },
    {
     "name": "stdout",
     "output_type": "stream",
     "text": [
      "\n",
      "added 73 packages, and audited 74 packages in 2s\n",
      "\n",
      "8 packages are looking for funding\n",
      "  run `npm fund` for details\n",
      "\n",
      "found 0 vulnerabilities\n",
      "!cd /home/c00cjz00wsi/gpt/gpt-ai-assistant-4.4.3/ ; npm start\n",
      "\n",
      "> gpt-ai-assistant@4.4.3 start\n",
      "> node api/index.js\n",
      "\n",
      "Process is interrupted.\n"
     ]
    }
   ],
   "source": [
    "%%bash\n",
    "## 安裝位置 (填寫你目前git clone下來的位置)\n",
    "install_dir=~/gpt-ai-assistant_install\n",
    "\n",
    "## 參數設定\n",
    "file_url=https://github.com/memochou1993/gpt-ai-assistant/archive/refs/tags/4.4.3.tar.gz\n",
    "file_basename=$(basename ${file_url})\n",
    "\n",
    "## 安裝套件\n",
    "cd ${install_dir}\n",
    "wget -q ${file_url} -O ${file_basename}\n",
    "extract_folder=$(tar -xzvf ${file_basename} |head -n 1)\n",
    "rm -rf ${extract_folder}\n",
    "tar -xzf ${file_basename}\n",
    "rm ${file_basename}\n",
    "cp env-template.txt ${extract_folder}/.env\n",
    "cd ${install_dir}/${extract_folder}\n",
    "npm ci --only=production\n",
    "\n",
    "##啟動程式 (若需要觀看互動過程, 請將註解 #npm start, 並將最下方的指令貼在下一個cell執行)\n",
    "echo \"!cd ${install_dir}/${extract_folder} ; npm start\"\n",
    "npm start"
   ]
  },
  {
   "cell_type": "code",
   "execution_count": null,
   "id": "831fdebd-8aaa-40ee-a1c4-8dc969e05237",
   "metadata": {},
   "outputs": [],
   "source": []
  }
 ],
 "metadata": {
  "kernelspec": {
   "display_name": "Python 3 (ipykernel)",
   "language": "python",
   "name": "python3"
  },
  "language_info": {
   "codemirror_mode": {
    "name": "ipython",
    "version": 3
   },
   "file_extension": ".py",
   "mimetype": "text/x-python",
   "name": "python",
   "nbconvert_exporter": "python",
   "pygments_lexer": "ipython3",
   "version": "3.8.16"
  }
 },
 "nbformat": 4,
 "nbformat_minor": 5
}
